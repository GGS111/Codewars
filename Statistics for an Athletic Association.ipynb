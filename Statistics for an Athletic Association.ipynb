{
 "cells": [
  {
   "cell_type": "code",
   "execution_count": 148,
   "id": "small-baker",
   "metadata": {},
   "outputs": [],
   "source": [
    "strg = \"01|15|59, 1|47|16, 01|17|20, 1|32|34, 2|17|17\""
   ]
  },
  {
   "cell_type": "code",
   "execution_count": 149,
   "id": "retained-apollo",
   "metadata": {},
   "outputs": [],
   "source": [
    "def stat(strg):\n",
    "    if strg == '':\n",
    "        return ''\n",
    "    q = [i for i in strg.split(', ')]\n",
    "    result = []\n",
    "    for i in q:\n",
    "        w = i.split('|')\n",
    "        summa = int(w[0]) * 3600 + int(w[1]) * 60 + int(w[2])\n",
    "        result.append(summa)\n",
    "    Range = max(result) - min(result)\n",
    "    Average = int(sum(result) / len(result))\n",
    "    if len(result) % 2 == 1:\n",
    "        Mediana = sorted(result)[int(len(result)/2)]\n",
    "    if len(result) % 2 == 0:\n",
    "        Mediana = int((sorted(result)[int(len(result)/2)-1] + sorted(result)[int(len(result)/2)])/2)\n",
    "    def converter(seconds):\n",
    "        h = 0\n",
    "        m = 0\n",
    "        while seconds >= 3600:\n",
    "            seconds -= 3600\n",
    "            h += 1\n",
    "        while seconds >= 60:\n",
    "            seconds -= 60\n",
    "            m +=1 \n",
    "        s = seconds\n",
    "        if len(str(h)) == 1:\n",
    "            h = '0' + str(h)\n",
    "        if len(str(m)) == 1:\n",
    "            m = '0' + str(m)\n",
    "        if len(str(s)) == 1:\n",
    "            s = '0' + str(s)\n",
    "        if len(str(s)) == 0:\n",
    "            s = '00'\n",
    "        return str(h) + '|' + str(m) + '|' + str(s)\n",
    "    return f'Range: {converter(Range)} Average: {converter(Average)} Median: {converter(Mediana)}'"
   ]
  },
  {
   "cell_type": "code",
   "execution_count": 150,
   "id": "impossible-fusion",
   "metadata": {},
   "outputs": [
    {
     "data": {
      "text/plain": [
       "'Range: 01|01|18 Average: 01|38|05 Median: 01|32|34'"
      ]
     },
     "execution_count": 150,
     "metadata": {},
     "output_type": "execute_result"
    }
   ],
   "source": [
    "stat(values)"
   ]
  },
  {
   "cell_type": "code",
   "execution_count": null,
   "id": "advisory-loading",
   "metadata": {},
   "outputs": [],
   "source": []
  }
 ],
 "metadata": {
  "kernelspec": {
   "display_name": "Python 3",
   "language": "python",
   "name": "python3"
  },
  "language_info": {
   "codemirror_mode": {
    "name": "ipython",
    "version": 3
   },
   "file_extension": ".py",
   "mimetype": "text/x-python",
   "name": "python",
   "nbconvert_exporter": "python",
   "pygments_lexer": "ipython3",
   "version": "3.8.8"
  }
 },
 "nbformat": 4,
 "nbformat_minor": 5
}
